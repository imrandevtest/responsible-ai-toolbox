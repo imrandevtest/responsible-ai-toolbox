{
 "cells": [
  {
   "cell_type": "markdown",
   "id": "8bf3a3e1",
   "metadata": {},
   "source": [
    "# Getting Started"
   ]
  },
  {
   "cell_type": "markdown",
   "id": "2bf7fe3a",
   "metadata": {},
   "source": [
    "## Installation"
   ]
  },
  {
   "cell_type": "markdown",
   "id": "07303d17",
   "metadata": {},
   "source": [
    "Use the following `pip` commands to install the Responsible AI Toolbox.\n",
    "\n",
    "Please uncomment the pip install commands below if you do not have the package installed and restart the jupyter kernel."
   ]
  },
  {
   "cell_type": "code",
   "execution_count": null,
   "id": "99e9b004",
   "metadata": {},
   "outputs": [],
   "source": [
    "#!pip install raiwidgets"
   ]
  },
  {
   "cell_type": "markdown",
   "id": "60dca68e",
   "metadata": {},
   "source": [
    "## Dependencies"
   ]
  },
  {
   "cell_type": "code",
   "execution_count": null,
   "id": "0ec013a4",
   "metadata": {},
   "outputs": [],
   "source": [
    "#!pip install --upgrade pandas"
   ]
  },
  {
   "cell_type": "markdown",
   "id": "f46ea6a5",
   "metadata": {},
   "source": [
    "## Overview & Setup"
   ]
  },
  {
   "cell_type": "markdown",
   "id": "da3c519c",
   "metadata": {},
   "source": [
    "Responsible AI Toolbox is an interoperable, customizable tool that empowers machine learning practitioners to evaluate their models and data based on their place in the model lifecycle.\n",
    "\n",
    "Users may select components whose functionality supports their current objectives. First, import the relevant objects."
   ]
  },
  {
   "cell_type": "code",
   "execution_count": null,
   "id": "1e23b512",
   "metadata": {},
   "outputs": [],
   "source": [
    "from raiwidgets import ResponsibleAIDashboard\n",
    "from responsibleai import RAIInsights"
   ]
  },
  {
   "cell_type": "markdown",
   "id": "9f152ac8",
   "metadata": {},
   "source": [
    "Users will need to load a dataset and train a model."
   ]
  },
  {
   "cell_type": "code",
   "execution_count": null,
   "id": "85b6bc11",
   "metadata": {},
   "outputs": [],
   "source": [
    "import sklearn\n",
    "import pandas as pd\n",
    "\n",
    "from sklearn.model_selection import train_test_split\n",
    "from sklearn.ensemble import RandomForestRegressor\n",
    "\n",
    "data = sklearn.datasets.load_diabetes()\n",
    "target_feature = 'y'\n",
    "continuous_features = data.feature_names\n",
    "data_df = pd.DataFrame(data.data, columns=data.feature_names)"
   ]
  },
  {
   "cell_type": "code",
   "execution_count": null,
   "id": "2411aa4f",
   "metadata": {},
   "outputs": [],
   "source": [
    "X_train, X_test, y_train, y_test = train_test_split(data_df, data.target, test_size=0.2, random_state=7)\n",
    "\n",
    "train_data = X_train.copy()\n",
    "test_data = X_test.copy()\n",
    "train_data[target_feature] = y_train\n",
    "test_data[target_feature] = y_test\n",
    "data.feature_names"
   ]
  },
  {
   "cell_type": "code",
   "execution_count": null,
   "id": "452718b3",
   "metadata": {},
   "outputs": [],
   "source": [
    "model = RandomForestRegressor()\n",
    "model.fit(X_train, y_train)"
   ]
  },
  {
   "cell_type": "markdown",
   "id": "88a8e0fd",
   "metadata": {},
   "source": [
    "It is necessary to initialize a RAIInsights object upon which the different components can be loaded. `task_type` holds the string `'regression'` or `'classification'` depending on the developer's purpose.\n",
    "\n",
    "Users can also specify categorical features via the `categorical_features` parameter."
   ]
  },
  {
   "cell_type": "code",
   "execution_count": null,
   "id": "7117ff1d",
   "metadata": {},
   "outputs": [],
   "source": [
    "task_type = 'regression'\n",
    "rai_insights = RAIInsights(model, train_data, test_data, target_feature, task_type)"
   ]
  },
  {
   "cell_type": "markdown",
   "id": "c360364e",
   "metadata": {},
   "source": [
    "The Interpretability and Error Analysis components can be added to the dashboard without any additional arguments:"
   ]
  },
  {
   "cell_type": "code",
   "execution_count": null,
   "id": "5a1f5cfe",
   "metadata": {},
   "outputs": [],
   "source": [
    "rai_insights.explainer.add()\n",
    "rai_insights.error_analysis.add()"
   ]
  },
  {
   "cell_type": "markdown",
   "id": "714655b3",
   "metadata": {},
   "source": [
    "The Causal Inferencing component must be added with a specification of the feature that would be changed as a treatment."
   ]
  },
  {
   "cell_type": "code",
   "execution_count": null,
   "id": "0b1749b9",
   "metadata": {},
   "outputs": [],
   "source": [
    "rai_insights.causal.add(treatment_features=['bmi', 'bp', 's2'])"
   ]
  },
  {
   "cell_type": "markdown",
   "id": "7f5e8f45",
   "metadata": {},
   "source": [
    "The Counterfactuals component takes arguments specifying the number of counterfactuals to generate, the list of columns containing continuous values, and the desired label of the counterfactuals."
   ]
  },
  {
   "cell_type": "markdown",
   "id": "308d93ad",
   "metadata": {},
   "source": [
    "In a classification situation, `desired_class` must specify the classification that the generated counterfactuals would fall into.\n",
    "Note command below is commented out since it will only work for a classification scenario."
   ]
  },
  {
   "cell_type": "code",
   "execution_count": null,
   "id": "64f8b2bf",
   "metadata": {},
   "outputs": [],
   "source": [
    "# rai_insights.counterfactual.add(total_CFs=20, desired_class='opposite')"
   ]
  },
  {
   "cell_type": "markdown",
   "id": "aa9ec639",
   "metadata": {},
   "source": [
    "In a regression situation, `desired_range` must specify the minimum and maximum label that the generated counterfactuals can have."
   ]
  },
  {
   "cell_type": "code",
   "execution_count": null,
   "id": "015d8185",
   "metadata": {},
   "outputs": [],
   "source": [
    "rai_insights.counterfactual.add(total_CFs=20, desired_range=[50, 120])"
   ]
  },
  {
   "cell_type": "markdown",
   "id": "3031a740",
   "metadata": {},
   "source": [
    "## Computing and Visualizing Insights"
   ]
  },
  {
   "cell_type": "markdown",
   "id": "b3a4aec0",
   "metadata": {},
   "source": [
    "After loading the components into the RAIInsights object, it is necessary to calculate values relevant to them, such as model metrics and counterfactuals."
   ]
  },
  {
   "cell_type": "code",
   "execution_count": null,
   "id": "17b3726a",
   "metadata": {},
   "outputs": [],
   "source": [
    "rai_insights.compute()"
   ]
  },
  {
   "cell_type": "markdown",
   "id": "d2e05195",
   "metadata": {},
   "source": [
    "Once the values for each component have been computed, they can be displayed by loading the RAIInsights object into a ResponsibleAIDashboard."
   ]
  },
  {
   "cell_type": "code",
   "execution_count": null,
   "id": "d460a923",
   "metadata": {},
   "outputs": [],
   "source": [
    "ResponsibleAIDashboard(rai_insights)"
   ]
  },
  {
   "cell_type": "markdown",
   "id": "17df1a35",
   "metadata": {},
   "source": [
    "## Learn More"
   ]
  },
  {
   "cell_type": "markdown",
   "id": "10b56cde",
   "metadata": {},
   "source": [
    "Visit the [GitHub](https://github.com/microsoft/responsible-ai-widgets) of Responsible AI Toolbox for more details, and take this [dashboard tour](./tour.ipynb) for an explanation of the different parts of each component."
   ]
  }
 ],
 "metadata": {
  "kernelspec": {
   "display_name": "Python 3",
   "language": "python",
   "name": "python3"
  },
  "language_info": {
   "codemirror_mode": {
    "name": "ipython",
    "version": 3
   },
   "file_extension": ".py",
   "mimetype": "text/x-python",
   "name": "python",
   "nbconvert_exporter": "python",
   "pygments_lexer": "ipython3",
   "version": "3.7.11"
  }
 },
 "nbformat": 4,
 "nbformat_minor": 5
}
